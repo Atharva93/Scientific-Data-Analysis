{
 "cells": [
  {
   "cell_type": "markdown",
   "metadata": {},
   "source": [
    "# Drug Deaths & Economic Conditions (1999-2016)\n",
    "\n"
   ]
  },
  {
   "cell_type": "code",
   "execution_count": 153,
   "metadata": {},
   "outputs": [],
   "source": [
    "import numpy as np\n",
    "import matplotlib.pyplot as plt\n",
    "import pandas as pd\n",
    "%matplotlib inline"
   ]
  },
  {
   "cell_type": "code",
   "execution_count": 154,
   "metadata": {},
   "outputs": [
    {
     "data": {
      "text/html": [
       "<div>\n",
       "<style scoped>\n",
       "    .dataframe tbody tr th:only-of-type {\n",
       "        vertical-align: middle;\n",
       "    }\n",
       "\n",
       "    .dataframe tbody tr th {\n",
       "        vertical-align: top;\n",
       "    }\n",
       "\n",
       "    .dataframe thead th {\n",
       "        text-align: right;\n",
       "    }\n",
       "</style>\n",
       "<table border=\"1\" class=\"dataframe\">\n",
       "  <thead>\n",
       "    <tr style=\"text-align: right;\">\n",
       "      <th></th>\n",
       "      <th>school</th>\n",
       "      <th>sex</th>\n",
       "      <th>age</th>\n",
       "      <th>address</th>\n",
       "      <th>famsize</th>\n",
       "      <th>Pstatus</th>\n",
       "      <th>Medu</th>\n",
       "      <th>Fedu</th>\n",
       "      <th>Mjob</th>\n",
       "      <th>Fjob</th>\n",
       "      <th>...</th>\n",
       "      <th>famrel</th>\n",
       "      <th>freetime</th>\n",
       "      <th>goout</th>\n",
       "      <th>Dalc</th>\n",
       "      <th>Walc</th>\n",
       "      <th>health</th>\n",
       "      <th>absences</th>\n",
       "      <th>G1</th>\n",
       "      <th>G2</th>\n",
       "      <th>G3</th>\n",
       "    </tr>\n",
       "  </thead>\n",
       "  <tbody>\n",
       "    <tr>\n",
       "      <th>0</th>\n",
       "      <td>GP</td>\n",
       "      <td>F</td>\n",
       "      <td>18</td>\n",
       "      <td>U</td>\n",
       "      <td>GT3</td>\n",
       "      <td>A</td>\n",
       "      <td>4</td>\n",
       "      <td>4</td>\n",
       "      <td>at_home</td>\n",
       "      <td>teacher</td>\n",
       "      <td>...</td>\n",
       "      <td>4</td>\n",
       "      <td>3</td>\n",
       "      <td>4</td>\n",
       "      <td>1</td>\n",
       "      <td>1</td>\n",
       "      <td>3</td>\n",
       "      <td>6</td>\n",
       "      <td>5</td>\n",
       "      <td>6</td>\n",
       "      <td>6</td>\n",
       "    </tr>\n",
       "    <tr>\n",
       "      <th>1</th>\n",
       "      <td>GP</td>\n",
       "      <td>F</td>\n",
       "      <td>17</td>\n",
       "      <td>U</td>\n",
       "      <td>GT3</td>\n",
       "      <td>T</td>\n",
       "      <td>1</td>\n",
       "      <td>1</td>\n",
       "      <td>at_home</td>\n",
       "      <td>other</td>\n",
       "      <td>...</td>\n",
       "      <td>5</td>\n",
       "      <td>3</td>\n",
       "      <td>3</td>\n",
       "      <td>1</td>\n",
       "      <td>1</td>\n",
       "      <td>3</td>\n",
       "      <td>4</td>\n",
       "      <td>5</td>\n",
       "      <td>5</td>\n",
       "      <td>6</td>\n",
       "    </tr>\n",
       "  </tbody>\n",
       "</table>\n",
       "<p>2 rows × 33 columns</p>\n",
       "</div>"
      ],
      "text/plain": [
       "  school sex  age address famsize Pstatus  Medu  Fedu     Mjob     Fjob ...  \\\n",
       "0     GP   F   18       U     GT3       A     4     4  at_home  teacher ...   \n",
       "1     GP   F   17       U     GT3       T     1     1  at_home    other ...   \n",
       "\n",
       "  famrel freetime  goout  Dalc  Walc health absences G1 G2 G3  \n",
       "0      4        3      4     1     1      3        6  5  6  6  \n",
       "1      5        3      3     1     1      3        4  5  5  6  \n",
       "\n",
       "[2 rows x 33 columns]"
      ]
     },
     "execution_count": 154,
     "metadata": {},
     "output_type": "execute_result"
    }
   ],
   "source": [
    "# Reading in the data set\n",
    "df = pd.read_csv(\"student-mat.csv\")\n",
    "df.head(2)"
   ]
  },
  {
   "cell_type": "code",
   "execution_count": 155,
   "metadata": {},
   "outputs": [
    {
     "name": "stdout",
     "output_type": "stream",
     "text": [
      "Columns:  395\n",
      "Rows:  33\n"
     ]
    }
   ],
   "source": [
    "# Finding the total number of rows and columns from the data\n",
    "column,row = df.shape\n",
    "print(\"Columns: \", column)\n",
    "print(\"Rows: \", row)"
   ]
  },
  {
   "cell_type": "code",
   "execution_count": 167,
   "metadata": {},
   "outputs": [
    {
     "data": {
      "text/html": [
       "<div>\n",
       "<style scoped>\n",
       "    .dataframe tbody tr th:only-of-type {\n",
       "        vertical-align: middle;\n",
       "    }\n",
       "\n",
       "    .dataframe tbody tr th {\n",
       "        vertical-align: top;\n",
       "    }\n",
       "\n",
       "    .dataframe thead th {\n",
       "        text-align: right;\n",
       "    }\n",
       "</style>\n",
       "<table border=\"1\" class=\"dataframe\">\n",
       "  <thead>\n",
       "    <tr style=\"text-align: right;\">\n",
       "      <th></th>\n",
       "      <th>final</th>\n",
       "    </tr>\n",
       "    <tr>\n",
       "      <th>studytime</th>\n",
       "      <th></th>\n",
       "    </tr>\n",
       "  </thead>\n",
       "  <tbody>\n",
       "    <tr>\n",
       "      <th>1</th>\n",
       "      <td>10.253968</td>\n",
       "    </tr>\n",
       "    <tr>\n",
       "      <th>2</th>\n",
       "      <td>10.442761</td>\n",
       "    </tr>\n",
       "    <tr>\n",
       "      <th>3</th>\n",
       "      <td>11.651282</td>\n",
       "    </tr>\n",
       "    <tr>\n",
       "      <th>4</th>\n",
       "      <td>11.728395</td>\n",
       "    </tr>\n",
       "  </tbody>\n",
       "</table>\n",
       "</div>"
      ],
      "text/plain": [
       "               final\n",
       "studytime           \n",
       "1          10.253968\n",
       "2          10.442761\n",
       "3          11.651282\n",
       "4          11.728395"
      ]
     },
     "execution_count": 167,
     "metadata": {},
     "output_type": "execute_result"
    }
   ],
   "source": [
    "\n",
    "first = (df.G1+df.G2+df.G3)/3\n",
    "new = pd.DataFrame(df.studytime)\n",
    "new['final'] = first \n",
    "part1 = new[new.studytime == 1]\n",
    "part2 = new[new.studytime == 2]\n",
    "part3 = new[new.studytime == 3]\n",
    "part4 = new[new.studytime == 4]\n",
    "\n",
    "#data.groupby(['col1', 'col2'])['col3'].mean()\n",
    "final = part1.groupby(['studytime']).agg({'final': 'mean'})\n",
    "final2 = part2.groupby(['studytime']).agg({'final': 'mean'})\n",
    "final3 = part3.groupby(['studytime']).agg({'final': 'mean'})\n",
    "final4 = part4.groupby(['studytime']).agg({'final': 'mean'})\n",
    "final = pd.concat([final,final2,final3,final4])\n",
    "final\n"
   ]
  },
  {
   "cell_type": "code",
   "execution_count": 5,
   "metadata": {},
   "outputs": [
    {
     "data": {
      "image/png": "[encoded data removed]",
      "text/plain": [
       "<matplotlib.figure.Figure at 0x1fe287dfda0>"
      ]
     },
     "metadata": {},
     "output_type": "display_data"
    }
   ],
   "source": [
    "plt.bar(new.year,new.UnemploymentRatio, color = 'green');"
   ]
  },
  {
   "cell_type": "code",
   "execution_count": 15,
   "metadata": {},
   "outputs": [
    {
     "data": {
      "text/html": [
       "<div>\n",
       "<style scoped>\n",
       "    .dataframe tbody tr th:only-of-type {\n",
       "        vertical-align: middle;\n",
       "    }\n",
       "\n",
       "    .dataframe tbody tr th {\n",
       "        vertical-align: top;\n",
       "    }\n",
       "\n",
       "    .dataframe thead th {\n",
       "        text-align: right;\n",
       "    }\n",
       "</style>\n",
       "<table border=\"1\" class=\"dataframe\">\n",
       "  <thead>\n",
       "    <tr style=\"text-align: right;\">\n",
       "      <th></th>\n",
       "      <th>year</th>\n",
       "      <th>drug_deaths</th>\n",
       "      <th>population</th>\n",
       "      <th>labor_force</th>\n",
       "      <th>unemployment</th>\n",
       "      <th>gdp_per_capita</th>\n",
       "      <th>DrugDeathRatio</th>\n",
       "      <th>UnemploymentRatio</th>\n",
       "    </tr>\n",
       "  </thead>\n",
       "  <tbody>\n",
       "    <tr>\n",
       "      <th>year</th>\n",
       "      <td>1.000000</td>\n",
       "      <td>0.964261</td>\n",
       "      <td>0.999289</td>\n",
       "      <td>0.978332</td>\n",
       "      <td>0.524785</td>\n",
       "      <td>0.890751</td>\n",
       "      <td>0.957243</td>\n",
       "      <td>0.454530</td>\n",
       "    </tr>\n",
       "    <tr>\n",
       "      <th>drug_deaths</th>\n",
       "      <td>0.964261</td>\n",
       "      <td>1.000000</td>\n",
       "      <td>0.959744</td>\n",
       "      <td>0.946412</td>\n",
       "      <td>0.360286</td>\n",
       "      <td>0.898998</td>\n",
       "      <td>0.999019</td>\n",
       "      <td>0.286147</td>\n",
       "    </tr>\n",
       "    <tr>\n",
       "      <th>population</th>\n",
       "      <td>0.999289</td>\n",
       "      <td>0.959744</td>\n",
       "      <td>1.000000</td>\n",
       "      <td>0.983505</td>\n",
       "      <td>0.541273</td>\n",
       "      <td>0.898389</td>\n",
       "      <td>0.953490</td>\n",
       "      <td>0.471566</td>\n",
       "    </tr>\n",
       "    <tr>\n",
       "      <th>labor_force</th>\n",
       "      <td>0.978332</td>\n",
       "      <td>0.946412</td>\n",
       "      <td>0.983505</td>\n",
       "      <td>1.000000</td>\n",
       "      <td>0.560489</td>\n",
       "      <td>0.933099</td>\n",
       "      <td>0.945328</td>\n",
       "      <td>0.490428</td>\n",
       "    </tr>\n",
       "    <tr>\n",
       "      <th>unemployment</th>\n",
       "      <td>0.524785</td>\n",
       "      <td>0.360286</td>\n",
       "      <td>0.541273</td>\n",
       "      <td>0.560489</td>\n",
       "      <td>1.000000</td>\n",
       "      <td>0.360074</td>\n",
       "      <td>0.353493</td>\n",
       "      <td>0.996463</td>\n",
       "    </tr>\n",
       "    <tr>\n",
       "      <th>gdp_per_capita</th>\n",
       "      <td>0.890751</td>\n",
       "      <td>0.898998</td>\n",
       "      <td>0.898389</td>\n",
       "      <td>0.933099</td>\n",
       "      <td>0.360074</td>\n",
       "      <td>1.000000</td>\n",
       "      <td>0.909926</td>\n",
       "      <td>0.288451</td>\n",
       "    </tr>\n",
       "    <tr>\n",
       "      <th>DrugDeathRatio</th>\n",
       "      <td>0.957243</td>\n",
       "      <td>0.999019</td>\n",
       "      <td>0.953490</td>\n",
       "      <td>0.945328</td>\n",
       "      <td>0.353493</td>\n",
       "      <td>0.909926</td>\n",
       "      <td>1.000000</td>\n",
       "      <td>0.279576</td>\n",
       "    </tr>\n",
       "    <tr>\n",
       "      <th>UnemploymentRatio</th>\n",
       "      <td>0.454530</td>\n",
       "      <td>0.286147</td>\n",
       "      <td>0.471566</td>\n",
       "      <td>0.490428</td>\n",
       "      <td>0.996463</td>\n",
       "      <td>0.288451</td>\n",
       "      <td>0.279576</td>\n",
       "      <td>1.000000</td>\n",
       "    </tr>\n",
       "  </tbody>\n",
       "</table>\n",
       "</div>"
      ],
      "text/plain": [
       "                       year  drug_deaths  population  labor_force  \\\n",
       "year               1.000000     0.964261    0.999289     0.978332   \n",
       "drug_deaths        0.964261     1.000000    0.959744     0.946412   \n",
       "population         0.999289     0.959744    1.000000     0.983505   \n",
       "labor_force        0.978332     0.946412    0.983505     1.000000   \n",
       "unemployment       0.524785     0.360286    0.541273     0.560489   \n",
       "gdp_per_capita     0.890751     0.898998    0.898389     0.933099   \n",
       "DrugDeathRatio     0.957243     0.999019    0.953490     0.945328   \n",
       "UnemploymentRatio  0.454530     0.286147    0.471566     0.490428   \n",
       "\n",
       "                   unemployment  gdp_per_capita  DrugDeathRatio  \\\n",
       "year                   0.524785        0.890751        0.957243   \n",
       "drug_deaths            0.360286        0.898998        0.999019   \n",
       "population             0.541273        0.898389        0.953490   \n",
       "labor_force            0.560489        0.933099        0.945328   \n",
       "unemployment           1.000000        0.360074        0.353493   \n",
       "gdp_per_capita         0.360074        1.000000        0.909926   \n",
       "DrugDeathRatio         0.353493        0.909926        1.000000   \n",
       "UnemploymentRatio      0.996463        0.288451        0.279576   \n",
       "\n",
       "                   UnemploymentRatio  \n",
       "year                        0.454530  \n",
       "drug_deaths                 0.286147  \n",
       "population                  0.471566  \n",
       "labor_force                 0.490428  \n",
       "unemployment                0.996463  \n",
       "gdp_per_capita              0.288451  \n",
       "DrugDeathRatio              0.279576  \n",
       "UnemploymentRatio           1.000000  "
      ]
     },
     "execution_count": 15,
     "metadata": {},
     "output_type": "execute_result"
    }
   ],
   "source": [
    "what = new.corr()\n",
    "what\n",
    "#what.loc['DrugDeathRatio' ,'UnemploymentRatio']\n",
    "# correlation value -> less than one -> very week"
   ]
  },
  {
   "cell_type": "code",
   "execution_count": 17,
   "metadata": {},
   "outputs": [
    {
     "data": {
      "text/plain": [
       "0.2884507924699554"
      ]
     },
     "execution_count": 17,
     "metadata": {},
     "output_type": "execute_result"
    }
   ],
   "source": [
    "what.loc['gdp_per_capita','UnemploymentRatio']"
   ]
  },
  {
   "cell_type": "code",
   "execution_count": null,
   "metadata": {},
   "outputs": [],
   "source": []
  }
 ],
 "metadata": {
  "kernelspec": {
   "display_name": "Python 3",
   "language": "python",
   "name": "python3"
  },
  "language_info": {
   "codemirror_mode": {
    "name": "ipython",
    "version": 3
   },
   "file_extension": ".py",
   "mimetype": "text/x-python",
   "name": "python",
   "nbconvert_exporter": "python",
   "pygments_lexer": "ipython3",
   "version": "3.6.4"
  }
 },
 "nbformat": 4,
 "nbformat_minor": 2
}
